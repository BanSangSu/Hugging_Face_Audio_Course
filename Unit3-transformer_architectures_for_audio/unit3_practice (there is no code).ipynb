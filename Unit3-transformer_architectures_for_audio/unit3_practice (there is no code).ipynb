{
 "cells": [
  {
   "cell_type": "markdown",
   "metadata": {},
   "source": [
    "## Transformer architecture for audio"
   ]
  },
  {
   "cell_type": "markdown",
   "metadata": {},
   "source": [
    "1. Encoder-only transformer-based CTC (Connectionist Temporal Classification) models for ASR (Automatic speech recognition)."
   ]
  },
  {
   "cell_type": "markdown",
   "metadata": {},
   "source": [
    "2. Encoder-decoder transformer models (Seq2Seq architectures (models)) for ASR, TTS (Text To Speech)."
   ]
  },
  {
   "cell_type": "markdown",
   "metadata": {},
   "source": [
    "3. Audio classification model with encoder-only transformer model. (Transformer-based) CTC models use CTC loss and some classification models (like CNN and ViT) use cross-entropy loss."
   ]
  },
  {
   "cell_type": "markdown",
   "metadata": {},
   "source": [
    "P.S. Additional material. Transformers in Speech Processing: A Survey https://arxiv.org/abs/2303.11607"
   ]
  }
 ],
 "metadata": {
  "language_info": {
   "name": "python"
  }
 },
 "nbformat": 4,
 "nbformat_minor": 2
}
